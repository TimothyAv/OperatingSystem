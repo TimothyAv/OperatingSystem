{
  "nbformat": 4,
  "nbformat_minor": 0,
  "metadata": {
    "colab": {
      "provenance": [],
      "authorship_tag": "ABX9TyO+gAdorHII6p/OXghaMSTR",
      "include_colab_link": true
    },
    "kernelspec": {
      "name": "python3",
      "display_name": "Python 3"
    },
    "language_info": {
      "name": "python"
    }
  },
  "cells": [
    {
      "cell_type": "markdown",
      "metadata": {
        "id": "view-in-github",
        "colab_type": "text"
      },
      "source": [
        "<a href=\"https://colab.research.google.com/github/TimothyAv/OperatingSystem/blob/main/OS_week11.ipynb\" target=\"_parent\"><img src=\"https://colab.research.google.com/assets/colab-badge.svg\" alt=\"Open In Colab\"/></a>"
      ]
    },
    {
      "cell_type": "code",
      "execution_count": 2,
      "metadata": {
        "colab": {
          "base_uri": "https://localhost:8080/"
        },
        "id": "iyU5K-MgTnfP",
        "outputId": "040bea68-81cb-49b6-d3cf-13fbe4ef0e11"
      },
      "outputs": [
        {
          "output_type": "stream",
          "name": "stdout",
          "text": [
            "NAME    MAJ:MIN RM  SIZE RO TYPE MOUNTPOINTS\n",
            "loop0     7:0    0  110G  0 loop \n",
            "sda       8:0    0   48G  0 disk \n",
            "├─sda1    8:1    0 43.8G  0 part /etc/hosts\n",
            "│                                /etc/hostname\n",
            "│                                /etc/resolv.conf\n",
            "├─sda2    8:2    0   16M  0 part \n",
            "├─sda3    8:3    0    2G  0 part \n",
            "├─sda4    8:4    0   16M  0 part \n",
            "├─sda5    8:5    0    2G  0 part \n",
            "├─sda6    8:6    0  512B  0 part \n",
            "├─sda7    8:7    0  512B  0 part \n",
            "├─sda8    8:8    0   16M  0 part \n",
            "├─sda9    8:9    0  512B  0 part \n",
            "├─sda10   8:10   0  512B  0 part \n",
            "├─sda11   8:11   0    8M  0 part \n",
            "└─sda12   8:12   0   32M  0 part \n",
            "\n"
          ]
        }
      ],
      "source": [
        "import subprocess\n",
        "\n",
        "def list_storage_devices():\n",
        "  command = \"lsblk\"\n",
        "  result = subprocess.run(command, shell=True, stdout=subprocess.PIPE, text=True)\n",
        "  print(result.stdout)\n",
        "\n",
        "list_storage_devices()"
      ]
    },
    {
      "cell_type": "code",
      "source": [
        "import subprocess\n",
        "\n",
        "def check_disk_space(device):\n",
        "  command = f\"df -h {device}\"\n",
        "  result = subprocess.run(command, shell=True, stdout=subprocess.PIPE, text=True)\n",
        "  print(result.stdout)\n",
        "\n",
        "check_disk_space(\"/content\")"
      ],
      "metadata": {
        "colab": {
          "base_uri": "https://localhost:8080/"
        },
        "id": "y2N0r6XuUEl2",
        "outputId": "1dabdaf6-abb4-4be3-e3af-a8fffd10ea31"
      },
      "execution_count": 5,
      "outputs": [
        {
          "output_type": "stream",
          "name": "stdout",
          "text": [
            "Filesystem      Size  Used Avail Use% Mounted on\n",
            "overlay         108G   28G   81G  26% /\n",
            "\n"
          ]
        }
      ]
    },
    {
      "cell_type": "code",
      "source": [
        "import subprocess\n",
        "\n",
        "def mount_device(device, mount_point):\n",
        "  command = f\"sudo mount {device} {mount_point}\"\n",
        "  result = subprocess.run(command, shell=True, stdout=subprocess.PIPE, text=True)\n",
        "  print(result.stdout)\n",
        "\n",
        "mount_device(\"/dev\", \"/mnt\")"
      ],
      "metadata": {
        "colab": {
          "base_uri": "https://localhost:8080/"
        },
        "id": "1apvDlPyU0Q4",
        "outputId": "3c5fa0d8-da68-4764-dba8-8e727d4e9d85"
      },
      "execution_count": 7,
      "outputs": [
        {
          "output_type": "stream",
          "name": "stdout",
          "text": [
            "\n"
          ]
        }
      ]
    }
  ]
}